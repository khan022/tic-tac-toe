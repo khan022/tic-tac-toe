{
 "cells": [
  {
   "cell_type": "code",
   "execution_count": null,
   "metadata": {},
   "outputs": [],
   "source": [
    "# Board\n",
    "# Display board\n",
    "# play game\n",
    "# handle turn\n",
    "# check win\n",
    "    # check rows\n",
    "    # check collums\n",
    "    # check diagonals\n",
    "# check tie\n",
    "# flip players"
   ]
  },
  {
   "cell_type": "markdown",
   "metadata": {},
   "source": [
    "### Global variables"
   ]
  },
  {
   "cell_type": "code",
   "execution_count": null,
   "metadata": {},
   "outputs": [],
   "source": [
    "board = ['-','-','-','-','-','-','-','-','-']\n",
    "game_still_going = True\n",
    "winner = None\n",
    "current_player = 'X'\n",
    "br = False"
   ]
  },
  {
   "cell_type": "markdown",
   "metadata": {},
   "source": [
    "### Display board"
   ]
  },
  {
   "cell_type": "code",
   "execution_count": null,
   "metadata": {},
   "outputs": [],
   "source": [
    "def display_board():\n",
    "    print(board[0]+'|'+board[1]+'|'+board[2])\n",
    "    print(board[3]+'|'+board[4]+'|'+board[5])\n",
    "    print(board[6]+'|'+board[7]+'|'+board[8])"
   ]
  },
  {
   "cell_type": "markdown",
   "metadata": {},
   "source": [
    "### Play game"
   ]
  },
  {
   "cell_type": "code",
   "execution_count": null,
   "metadata": {},
   "outputs": [],
   "source": [
    "def play_game():\n",
    "    # display the initial board\n",
    "    display_board()\n",
    "    global winner\n",
    "    global br\n",
    "    while game_still_going:\n",
    "        handle_turn(current_player)\n",
    "        \n",
    "        check_if_game_over()\n",
    "        if br == True:\n",
    "            break\n",
    "        \n",
    "        flip_player()\n",
    "        # The game has ended\n",
    "    if winner == 'X' or winner == 'O':\n",
    "            print(winner + ' has won.')\n",
    "    if winner == None:\n",
    "        print('Tie.')\n",
    "    "
   ]
  },
  {
   "cell_type": "code",
   "execution_count": null,
   "metadata": {},
   "outputs": [],
   "source": [
    "def handle_turn(player):\n",
    "    print(player + \"'s Turn.\")\n",
    "    pos = input('Choose a position from 1-9: ')\n",
    "    \n",
    "    valid = False\n",
    "    while not valid:\n",
    "        \n",
    "        while pos not in ['1','2','3','4','5','6','7','8','9']:\n",
    "            pos = input('Invalid input.\\nChoose a position from 1-9: ')\n",
    "        pos = int(pos)-1\n",
    "        if board[pos] == '-':\n",
    "            valid = True\n",
    "        else:\n",
    "            print(\"You cant go there. Go again.\")\n",
    "    board[pos] = player\n",
    "    display_board()"
   ]
  },
  {
   "cell_type": "code",
   "execution_count": null,
   "metadata": {},
   "outputs": [],
   "source": [
    "def check_if_game_over():\n",
    "    check_for_winner()\n",
    "    check_if_tie()"
   ]
  },
  {
   "cell_type": "code",
   "execution_count": null,
   "metadata": {},
   "outputs": [],
   "source": [
    "def check_for_winner():\n",
    "    global winner\n",
    "    global br\n",
    "    #check rows\n",
    "    row_winner = check_rows()\n",
    "    #check collums\n",
    "    collum_winner = check_collums()\n",
    "    #check diagonals\n",
    "    diagonal_winner = check_diagonals()\n",
    "    if row_winner:\n",
    "        #there was a win\n",
    "        winner = row_winner\n",
    "        br = True\n",
    "    elif collum_winner:\n",
    "        #there was a win\n",
    "        winner = collum_winner\n",
    "        br = True \n",
    "    elif diagonal_winner:\n",
    "        #there was a win\n",
    "        winner = diagonal_winner\n",
    "        br = True\n",
    "    else:\n",
    "        #there was no win\n",
    "        winner = None"
   ]
  },
  {
   "cell_type": "code",
   "execution_count": null,
   "metadata": {},
   "outputs": [],
   "source": [
    "def check_rows():\n",
    "    global game_stil_going\n",
    "    row_1 = board[0] == board[1] == board[2] != '-'\n",
    "    row_2 = board[3] == board[4] == board[5] != '-'\n",
    "    row_3 = board[6] == board[7] == board[8] != '-'\n",
    "    \n",
    "    if row_1 or row_2 or row_3:\n",
    "        game_still_going = False\n",
    "    if row_1:\n",
    "        return board[0]\n",
    "    elif row_2:\n",
    "        return board[3]\n",
    "    elif row_3:\n",
    "        return board[6]\n",
    "    else:\n",
    "        return None"
   ]
  },
  {
   "cell_type": "code",
   "execution_count": null,
   "metadata": {},
   "outputs": [],
   "source": [
    "def check_collums():\n",
    "    global game_stil_going\n",
    "    collum_1 = board[0] == board[3] == board[6] != '-'\n",
    "    collum_2 = board[1] == board[4] == board[7] != '-'\n",
    "    collum_3 = board[2] == board[5] == board[8] != '-'\n",
    "    \n",
    "    if collum_1 or collum_2 or collum_3:\n",
    "        game_still_going = False\n",
    "    if collum_1:\n",
    "        return board[0]\n",
    "    elif collum_2:\n",
    "        return board[1]\n",
    "    elif collum_3:\n",
    "        return board[2]\n",
    "    else:\n",
    "        return None"
   ]
  },
  {
   "cell_type": "code",
   "execution_count": null,
   "metadata": {},
   "outputs": [],
   "source": [
    "def check_diagonals():\n",
    "    global game_stil_going\n",
    "    diag_1 = board[0] == board[4] == board[8] != '-'\n",
    "    diag_2 = board[2] == board[4] == board[6] != '-'\n",
    "    \n",
    "    if diag_1 or diag_2:\n",
    "        game_still_going = False\n",
    "    if diag_1:\n",
    "        return board[0]\n",
    "    elif diag_2:\n",
    "        return board[2]\n",
    "    else:\n",
    "        return None"
   ]
  },
  {
   "cell_type": "code",
   "execution_count": null,
   "metadata": {},
   "outputs": [],
   "source": [
    "def check_if_tie():\n",
    "    global game_still_going\n",
    "    if '-' not in board:\n",
    "        game_still_going = False\n",
    "        return True\n",
    "    else:\n",
    "        return False"
   ]
  },
  {
   "cell_type": "code",
   "execution_count": null,
   "metadata": {},
   "outputs": [],
   "source": [
    "def flip_player():\n",
    "    global current_player\n",
    "    if current_player == 'X':\n",
    "        current_player = 'O'\n",
    "    elif current_player == 'O':\n",
    "        current_player = 'X'\n",
    "    return"
   ]
  },
  {
   "cell_type": "code",
   "execution_count": null,
   "metadata": {},
   "outputs": [],
   "source": [
    "play_game()"
   ]
  },
  {
   "cell_type": "code",
   "execution_count": null,
   "metadata": {},
   "outputs": [],
   "source": []
  }
 ],
 "metadata": {
  "kernelspec": {
   "display_name": "Python 3",
   "language": "python",
   "name": "python3"
  },
  "language_info": {
   "codemirror_mode": {
    "name": "ipython",
    "version": 3
   },
   "file_extension": ".py",
   "mimetype": "text/x-python",
   "name": "python",
   "nbconvert_exporter": "python",
   "pygments_lexer": "ipython3",
   "version": "3.7.4"
  }
 },
 "nbformat": 4,
 "nbformat_minor": 2
}
